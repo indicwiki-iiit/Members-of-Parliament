{
  "nbformat": 4,
  "nbformat_minor": 0,
  "metadata": {
    "colab": {
      "name": "XMLgenerator-MPs.ipynb",
      "provenance": []
    },
    "kernelspec": {
      "name": "python3",
      "display_name": "Python 3"
    },
    "language_info": {
      "name": "python"
    }
  },
  "cells": [
    {
      "cell_type": "code",
      "source": [
        "import string\n",
        "from hashlib import sha1\n",
        "from datetime import datetime\n",
        "import pickle\n",
        "import ast\n",
        "from jinja2 import Environment, FileSystemLoader,Template\n",
        "import pandas as pd\n",
        "import numpy as np\n",
        "from tqdm import tqdm"
      ],
      "metadata": {
        "id": "_XrKl0aEF3uT"
      },
      "execution_count": 2,
      "outputs": []
    },
    {
      "cell_type": "code",
      "source": [
        "df=pd.read_excel(\"/content/MPS-Finalised data1.0 (1).xlsx\")\n",
        "df=df.fillna('None')\n",
        "tewiki = '''<mediawiki xmlns=\"http://www.mediawiki.org/xml/export-0.10/\" xmlns:xsi=\"http://www.w3.org/2001/XMLSchema-instance\" xsi:schemaLocation=\"http://www.mediawiki.org/xml/export-0.10/ http://www.mediawiki.org/xml/export-0.10.xsd\" version=\"0.10\" xml:lang=\"te\">\n",
        "\t<siteinfo>\n",
        "\t\t<sitename>tewiki</sitename>\n",
        "\t\t<dbname>indicwiki</dbname>\n",
        "\t\t<base>https://tewiki.iiit.ac.in/index.php/%E0%B0%AE%E0%B1%8A%E0%B0%A6%E0%B0%9F%E0%B0%BF_%E0%B0%AA%E0%B1%87%E0%B0%9C%E0%B1%80</base>\n",
        "\t\t<generator>MediaWiki 1.34.0</generator>\n",
        "\t\t<case>first-letter</case>\n",
        "\t\t<namespaces>\n",
        "\t\t\t<namespace key=\"-2\" case=\"first-letter\">మీడియా</namespace>\n",
        "\t\t\t<namespace key=\"-1\" case=\"first-letter\">ప్రత్యేక</namespace>\n",
        "\t\t\t<namespace key=\"0\" case=\"first-letter\" />\n",
        "\t\t\t<namespace key=\"1\" case=\"first-letter\">చర్చ</namespace>\n",
        "\t\t\t<namespace key=\"2\" case=\"first-letter\">వాడుకరి</namespace>\n",
        "\t\t\t<namespace key=\"3\" case=\"first-letter\">వాడుకరి చర్చ</namespace>\n",
        "\t\t\t<namespace key=\"4\" case=\"first-letter\">Project</namespace>\n",
        "\t\t\t<namespace key=\"5\" case=\"first-letter\">Project చర్చ</namespace>\n",
        "\t\t\t<namespace key=\"6\" case=\"first-letter\">దస్త్రం</namespace>\n",
        "\t\t\t<namespace key=\"7\" case=\"first-letter\">దస్త్రంపై చర్చ</namespace>\n",
        "\t\t\t<namespace key=\"8\" case=\"first-letter\">మీడియావికీ</namespace>\n",
        "\t\t\t<namespace key=\"9\" case=\"first-letter\">మీడియావికీ చర్చ</namespace>\n",
        "\t\t\t<namespace key=\"10\" case=\"first-letter\">మూస</namespace>\n",
        "\t\t\t<namespace key=\"11\" case=\"first-letter\">మూస చర్చ</namespace>\n",
        "\t\t\t<namespace key=\"12\" case=\"first-letter\">సహాయం</namespace>\n",
        "\t\t\t<namespace key=\"13\" case=\"first-letter\">సహాయం చర్చ</namespace>\n",
        "\t\t\t<namespace key=\"14\" case=\"first-letter\">వర్గం</namespace>\n",
        "\t\t\t<namespace key=\"15\" case=\"first-letter\">వర్గం చర్చ</namespace>\n",
        "\t\t\t<namespace key=\"828\" case=\"first-letter\">మాడ్యూల్</namespace>\n",
        "\t\t\t<namespace key=\"829\" case=\"first-letter\">మాడ్యూల్ చర్చ</namespace>\n",
        "\t\t\t<namespace key=\"2300\" case=\"first-letter\">Gadget</namespace>\n",
        "\t\t\t<namespace key=\"2301\" case=\"first-letter\">Gadget talk</namespace>\n",
        "\t\t\t<namespace key=\"2302\" case=\"case-sensitive\">Gadget definition</namespace>\n",
        "\t\t\t<namespace key=\"2303\" case=\"case-sensitive\">Gadget definition talk</namespace>\n",
        "\t\t\t<namespace key=\"2600\" case=\"first-letter\">Topic</namespace>\n",
        "\t\t</namespaces>\n",
        "\t</siteinfo>'''\n"
      ],
      "metadata": {
        "id": "oewuQgMNF5-F"
      },
      "execution_count": 4,
      "outputs": []
    },
    {
      "cell_type": "code",
      "source": [
        "page_id = 830000\n",
        "\n",
        "user_id =\"18906\"\n",
        "username =\"Sumakola\"\n",
        "\n",
        "# Funtions to write page to file object\n",
        "def sha36(page_id):\n",
        "\tpage_id = str(page_id).encode('utf-8')\n",
        "\tsha16 =sha1(page_id).hexdigest()\n",
        "\tsha10 =int(sha16, 16)\n",
        "\n",
        "\tchars =[]\n",
        "\talphabets = string.digits +string.ascii_lowercase\n",
        "\twhile sha10>0:\n",
        "\t\tsha10, r = divmod(sha10, 36)\n",
        "\t\tchars.append(alphabets[r])\n",
        "\t\n",
        "\treturn ''.join(reversed(chars))"
      ],
      "metadata": {
        "id": "elwbV__2GIvW"
      },
      "execution_count": 5,
      "outputs": []
    },
    {
      "cell_type": "code",
      "source": [
        "def clean(text):\n",
        "\ttext = text.replace('&',\"&amp;\")\n",
        "\ttext = text.replace('<',\"&lt;\")\n",
        "\ttext = text.replace('>',\"&gt;\")\n",
        "\ttext = text.replace('\"',\"&quot;\")\n",
        "\ttext = text.replace(\"'\",\"&apos;\")\n",
        "\n",
        "\treturn text"
      ],
      "metadata": {
        "id": "JaJwT4dsGMUk"
      },
      "execution_count": 6,
      "outputs": []
    },
    {
      "cell_type": "code",
      "source": [
        "def writePage(title, wikiText, fobj):\n",
        "\tglobal user_id, username, page_id\n",
        "\n",
        "\tpglen = len(wikiText)\n",
        "\ttime =datetime.now().strftime(\"%Y-%m-%dT%H-%M-%SZ\")\n",
        "\t\n",
        "\tcurPage ='''\\n\\n\n",
        "\t<page>\n",
        "\t\t<title>''' +clean(title) +'''</title>\n",
        "\t\t<ns>0</ns>\n",
        "\t\t<id>''' +str(page_id) +'''</id>\n",
        "\t\t<revision>\n",
        "\t\t\t<id>''' +str(page_id) +'''</id>\n",
        "\t\t\t<timestamp>'''+time+'''</timestamp>\n",
        "\t\t\t<contributor>\n",
        "\t\t\t\t<username>''' +username +'''</username>\n",
        "\t\t\t\t<id>''' +str(user_id) +'''</id>\n",
        "\t\t\t</contributor>\n",
        "\t\t\t<comment>xmlpage created</comment>\n",
        "\t\t\t<model>wikitext</model>\n",
        "\t\t\t<format>text/x-wiki</format>\n",
        "\t\t\t<text xml:space=\"preserve\" bytes=\"''' +str(pglen) +'''\">\n",
        "\t\t\t\\n''' + clean(wikiText) +'''\n",
        "\t\t\t</text>\n",
        "\t\t\t<sha1>''' +sha36(page_id) +'''</sha1>\n",
        "\t\t</revision>\n",
        "\t</page>\n",
        "\t\\n\\n'''\n",
        "\n",
        "\tfobj.write(curPage)\n",
        "\tpage_id += 1\n",
        "\treturn"
      ],
      "metadata": {
        "id": "SokXFTafGPlr"
      },
      "execution_count": 7,
      "outputs": []
    },
    {
      "cell_type": "code",
      "source": [
        "files=FileSystemLoader('/')\n",
        "env=Environment(loader=files)\n",
        "env.globals.update(zip=zip)\n",
        "template = env.get_template(\"/content/template_final .j2\")\n",
        "\n"
      ],
      "metadata": {
        "id": "Wo2wbLWOGSfL"
      },
      "execution_count": 8,
      "outputs": []
    },
    {
      "cell_type": "code",
      "source": [
        "fname=\"/content/sample_data/xml1\"\n",
        "fobj = open(fname, 'w',encoding='utf-8')\n",
        "fobj.write(tewiki)\n"
      ],
      "metadata": {
        "colab": {
          "base_uri": "https://localhost:8080/"
        },
        "id": "Fl76XyKjIJ-Z",
        "outputId": "aed55b00-9e44-478f-b6af-331a4273b1d7"
      },
      "execution_count": 9,
      "outputs": [
        {
          "output_type": "execute_result",
          "data": {
            "text/plain": [
              "2192"
            ]
          },
          "metadata": {},
          "execution_count": 9
        }
      ]
    },
    {
      "cell_type": "code",
      "source": [
        "for i in range(len(df)):\t\n",
        "\trow=df.loc[i].to_dict()\n",
        "\ttext = template.render(row)\n",
        "\ttitle=row['te_name']\n",
        "\twritePage(title, text, fobj)\n",
        "fobj.write('</mediawiki>')\n",
        "fobj.close()"
      ],
      "metadata": {
        "id": "3cC5DbnsITmK"
      },
      "execution_count": 10,
      "outputs": []
    }
  ]
}